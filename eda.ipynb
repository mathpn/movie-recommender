{
 "cells": [
  {
   "cell_type": "markdown",
   "metadata": {},
   "source": [
    "Let's take a look at the data. First, we'll use ratings to create a collaborative filtering algorithm. Then, we'll use movie metadata to find similar movies."
   ]
  },
  {
   "cell_type": "code",
   "execution_count": 1,
   "metadata": {},
   "outputs": [],
   "source": [
    "import numpy as np\n",
    "import pandas as pd"
   ]
  },
  {
   "cell_type": "code",
   "execution_count": 2,
   "metadata": {},
   "outputs": [
    {
     "name": "stderr",
     "output_type": "stream",
     "text": [
      "/tmp/ipykernel_99308/352889312.py:1: DtypeWarning: Columns (10) have mixed types. Specify dtype option on import or set low_memory=False.\n",
      "  movies_metadata = pd.read_csv('./data/movies_metadata.csv')\n"
     ]
    },
    {
     "data": {
      "text/html": [
       "<div>\n",
       "<style scoped>\n",
       "    .dataframe tbody tr th:only-of-type {\n",
       "        vertical-align: middle;\n",
       "    }\n",
       "\n",
       "    .dataframe tbody tr th {\n",
       "        vertical-align: top;\n",
       "    }\n",
       "\n",
       "    .dataframe thead th {\n",
       "        text-align: right;\n",
       "    }\n",
       "</style>\n",
       "<table border=\"1\" class=\"dataframe\">\n",
       "  <thead>\n",
       "    <tr style=\"text-align: right;\">\n",
       "      <th></th>\n",
       "      <th>adult</th>\n",
       "      <th>belongs_to_collection</th>\n",
       "      <th>budget</th>\n",
       "      <th>genres</th>\n",
       "      <th>homepage</th>\n",
       "      <th>id</th>\n",
       "      <th>imdb_id</th>\n",
       "      <th>original_language</th>\n",
       "      <th>original_title</th>\n",
       "      <th>overview</th>\n",
       "      <th>...</th>\n",
       "      <th>spoken_languages</th>\n",
       "      <th>status</th>\n",
       "      <th>tagline</th>\n",
       "      <th>title</th>\n",
       "      <th>video</th>\n",
       "      <th>vote_average</th>\n",
       "      <th>vote_count</th>\n",
       "      <th>cast</th>\n",
       "      <th>crew</th>\n",
       "      <th>keywords</th>\n",
       "    </tr>\n",
       "  </thead>\n",
       "  <tbody>\n",
       "    <tr>\n",
       "      <th>0</th>\n",
       "      <td>False</td>\n",
       "      <td>{'id': 10194, 'name': 'Toy Story Collection', ...</td>\n",
       "      <td>30000000</td>\n",
       "      <td>[{'id': 16, 'name': 'Animation'}, {'id': 35, '...</td>\n",
       "      <td>http://toystory.disney.com/toy-story</td>\n",
       "      <td>862</td>\n",
       "      <td>tt0114709</td>\n",
       "      <td>en</td>\n",
       "      <td>Toy Story</td>\n",
       "      <td>Led by Woody, Andy's toys live happily in his ...</td>\n",
       "      <td>...</td>\n",
       "      <td>[{'iso_639_1': 'en', 'name': 'English'}]</td>\n",
       "      <td>Released</td>\n",
       "      <td>NaN</td>\n",
       "      <td>Toy Story</td>\n",
       "      <td>False</td>\n",
       "      <td>7.7</td>\n",
       "      <td>5415.0</td>\n",
       "      <td>[{'cast_id': 14, 'character': 'Woody (voice)',...</td>\n",
       "      <td>[{'credit_id': '52fe4284c3a36847f8024f49', 'de...</td>\n",
       "      <td>[{'id': 931, 'name': 'jealousy'}, {'id': 4290,...</td>\n",
       "    </tr>\n",
       "    <tr>\n",
       "      <th>1</th>\n",
       "      <td>False</td>\n",
       "      <td>NaN</td>\n",
       "      <td>65000000</td>\n",
       "      <td>[{'id': 12, 'name': 'Adventure'}, {'id': 14, '...</td>\n",
       "      <td>NaN</td>\n",
       "      <td>8844</td>\n",
       "      <td>tt0113497</td>\n",
       "      <td>en</td>\n",
       "      <td>Jumanji</td>\n",
       "      <td>When siblings Judy and Peter discover an encha...</td>\n",
       "      <td>...</td>\n",
       "      <td>[{'iso_639_1': 'en', 'name': 'English'}, {'iso...</td>\n",
       "      <td>Released</td>\n",
       "      <td>Roll the dice and unleash the excitement!</td>\n",
       "      <td>Jumanji</td>\n",
       "      <td>False</td>\n",
       "      <td>6.9</td>\n",
       "      <td>2413.0</td>\n",
       "      <td>[{'cast_id': 1, 'character': 'Alan Parrish', '...</td>\n",
       "      <td>[{'credit_id': '52fe44bfc3a36847f80a7cd1', 'de...</td>\n",
       "      <td>[{'id': 10090, 'name': 'board game'}, {'id': 1...</td>\n",
       "    </tr>\n",
       "    <tr>\n",
       "      <th>2</th>\n",
       "      <td>False</td>\n",
       "      <td>{'id': 119050, 'name': 'Grumpy Old Men Collect...</td>\n",
       "      <td>0</td>\n",
       "      <td>[{'id': 10749, 'name': 'Romance'}, {'id': 35, ...</td>\n",
       "      <td>NaN</td>\n",
       "      <td>15602</td>\n",
       "      <td>tt0113228</td>\n",
       "      <td>en</td>\n",
       "      <td>Grumpier Old Men</td>\n",
       "      <td>A family wedding reignites the ancient feud be...</td>\n",
       "      <td>...</td>\n",
       "      <td>[{'iso_639_1': 'en', 'name': 'English'}]</td>\n",
       "      <td>Released</td>\n",
       "      <td>Still Yelling. Still Fighting. Still Ready for...</td>\n",
       "      <td>Grumpier Old Men</td>\n",
       "      <td>False</td>\n",
       "      <td>6.5</td>\n",
       "      <td>92.0</td>\n",
       "      <td>[{'cast_id': 2, 'character': 'Max Goldman', 'c...</td>\n",
       "      <td>[{'credit_id': '52fe466a9251416c75077a89', 'de...</td>\n",
       "      <td>[{'id': 1495, 'name': 'fishing'}, {'id': 12392...</td>\n",
       "    </tr>\n",
       "    <tr>\n",
       "      <th>3</th>\n",
       "      <td>False</td>\n",
       "      <td>NaN</td>\n",
       "      <td>16000000</td>\n",
       "      <td>[{'id': 35, 'name': 'Comedy'}, {'id': 18, 'nam...</td>\n",
       "      <td>NaN</td>\n",
       "      <td>31357</td>\n",
       "      <td>tt0114885</td>\n",
       "      <td>en</td>\n",
       "      <td>Waiting to Exhale</td>\n",
       "      <td>Cheated on, mistreated and stepped on, the wom...</td>\n",
       "      <td>...</td>\n",
       "      <td>[{'iso_639_1': 'en', 'name': 'English'}]</td>\n",
       "      <td>Released</td>\n",
       "      <td>Friends are the people who let you be yourself...</td>\n",
       "      <td>Waiting to Exhale</td>\n",
       "      <td>False</td>\n",
       "      <td>6.1</td>\n",
       "      <td>34.0</td>\n",
       "      <td>[{'cast_id': 1, 'character': \"Savannah 'Vannah...</td>\n",
       "      <td>[{'credit_id': '52fe44779251416c91011acb', 'de...</td>\n",
       "      <td>[{'id': 818, 'name': 'based on novel'}, {'id':...</td>\n",
       "    </tr>\n",
       "    <tr>\n",
       "      <th>4</th>\n",
       "      <td>False</td>\n",
       "      <td>{'id': 96871, 'name': 'Father of the Bride Col...</td>\n",
       "      <td>0</td>\n",
       "      <td>[{'id': 35, 'name': 'Comedy'}]</td>\n",
       "      <td>NaN</td>\n",
       "      <td>11862</td>\n",
       "      <td>tt0113041</td>\n",
       "      <td>en</td>\n",
       "      <td>Father of the Bride Part II</td>\n",
       "      <td>Just when George Banks has recovered from his ...</td>\n",
       "      <td>...</td>\n",
       "      <td>[{'iso_639_1': 'en', 'name': 'English'}]</td>\n",
       "      <td>Released</td>\n",
       "      <td>Just When His World Is Back To Normal... He's ...</td>\n",
       "      <td>Father of the Bride Part II</td>\n",
       "      <td>False</td>\n",
       "      <td>5.7</td>\n",
       "      <td>173.0</td>\n",
       "      <td>[{'cast_id': 1, 'character': 'George Banks', '...</td>\n",
       "      <td>[{'credit_id': '52fe44959251416c75039ed7', 'de...</td>\n",
       "      <td>[{'id': 1009, 'name': 'baby'}, {'id': 1599, 'n...</td>\n",
       "    </tr>\n",
       "  </tbody>\n",
       "</table>\n",
       "<p>5 rows × 27 columns</p>\n",
       "</div>"
      ],
      "text/plain": [
       "   adult                              belongs_to_collection    budget  \\\n",
       "0  False  {'id': 10194, 'name': 'Toy Story Collection', ...  30000000   \n",
       "1  False                                                NaN  65000000   \n",
       "2  False  {'id': 119050, 'name': 'Grumpy Old Men Collect...         0   \n",
       "3  False                                                NaN  16000000   \n",
       "4  False  {'id': 96871, 'name': 'Father of the Bride Col...         0   \n",
       "\n",
       "                                              genres  \\\n",
       "0  [{'id': 16, 'name': 'Animation'}, {'id': 35, '...   \n",
       "1  [{'id': 12, 'name': 'Adventure'}, {'id': 14, '...   \n",
       "2  [{'id': 10749, 'name': 'Romance'}, {'id': 35, ...   \n",
       "3  [{'id': 35, 'name': 'Comedy'}, {'id': 18, 'nam...   \n",
       "4                     [{'id': 35, 'name': 'Comedy'}]   \n",
       "\n",
       "                               homepage     id    imdb_id original_language  \\\n",
       "0  http://toystory.disney.com/toy-story    862  tt0114709                en   \n",
       "1                                   NaN   8844  tt0113497                en   \n",
       "2                                   NaN  15602  tt0113228                en   \n",
       "3                                   NaN  31357  tt0114885                en   \n",
       "4                                   NaN  11862  tt0113041                en   \n",
       "\n",
       "                original_title  \\\n",
       "0                    Toy Story   \n",
       "1                      Jumanji   \n",
       "2             Grumpier Old Men   \n",
       "3            Waiting to Exhale   \n",
       "4  Father of the Bride Part II   \n",
       "\n",
       "                                            overview  ...  \\\n",
       "0  Led by Woody, Andy's toys live happily in his ...  ...   \n",
       "1  When siblings Judy and Peter discover an encha...  ...   \n",
       "2  A family wedding reignites the ancient feud be...  ...   \n",
       "3  Cheated on, mistreated and stepped on, the wom...  ...   \n",
       "4  Just when George Banks has recovered from his ...  ...   \n",
       "\n",
       "                                    spoken_languages    status  \\\n",
       "0           [{'iso_639_1': 'en', 'name': 'English'}]  Released   \n",
       "1  [{'iso_639_1': 'en', 'name': 'English'}, {'iso...  Released   \n",
       "2           [{'iso_639_1': 'en', 'name': 'English'}]  Released   \n",
       "3           [{'iso_639_1': 'en', 'name': 'English'}]  Released   \n",
       "4           [{'iso_639_1': 'en', 'name': 'English'}]  Released   \n",
       "\n",
       "                                             tagline  \\\n",
       "0                                                NaN   \n",
       "1          Roll the dice and unleash the excitement!   \n",
       "2  Still Yelling. Still Fighting. Still Ready for...   \n",
       "3  Friends are the people who let you be yourself...   \n",
       "4  Just When His World Is Back To Normal... He's ...   \n",
       "\n",
       "                         title  video  vote_average  vote_count  \\\n",
       "0                    Toy Story  False           7.7      5415.0   \n",
       "1                      Jumanji  False           6.9      2413.0   \n",
       "2             Grumpier Old Men  False           6.5        92.0   \n",
       "3            Waiting to Exhale  False           6.1        34.0   \n",
       "4  Father of the Bride Part II  False           5.7       173.0   \n",
       "\n",
       "                                                cast  \\\n",
       "0  [{'cast_id': 14, 'character': 'Woody (voice)',...   \n",
       "1  [{'cast_id': 1, 'character': 'Alan Parrish', '...   \n",
       "2  [{'cast_id': 2, 'character': 'Max Goldman', 'c...   \n",
       "3  [{'cast_id': 1, 'character': \"Savannah 'Vannah...   \n",
       "4  [{'cast_id': 1, 'character': 'George Banks', '...   \n",
       "\n",
       "                                                crew  \\\n",
       "0  [{'credit_id': '52fe4284c3a36847f8024f49', 'de...   \n",
       "1  [{'credit_id': '52fe44bfc3a36847f80a7cd1', 'de...   \n",
       "2  [{'credit_id': '52fe466a9251416c75077a89', 'de...   \n",
       "3  [{'credit_id': '52fe44779251416c91011acb', 'de...   \n",
       "4  [{'credit_id': '52fe44959251416c75039ed7', 'de...   \n",
       "\n",
       "                                            keywords  \n",
       "0  [{'id': 931, 'name': 'jealousy'}, {'id': 4290,...  \n",
       "1  [{'id': 10090, 'name': 'board game'}, {'id': 1...  \n",
       "2  [{'id': 1495, 'name': 'fishing'}, {'id': 12392...  \n",
       "3  [{'id': 818, 'name': 'based on novel'}, {'id':...  \n",
       "4  [{'id': 1009, 'name': 'baby'}, {'id': 1599, 'n...  \n",
       "\n",
       "[5 rows x 27 columns]"
      ]
     },
     "execution_count": 2,
     "metadata": {},
     "output_type": "execute_result"
    }
   ],
   "source": [
    "movies_metadata = pd.read_csv('./data/movies_metadata.csv')\n",
    "credits = pd.read_csv('./data/credits.csv')\n",
    "keywords = pd.read_csv('./data/keywords.csv')\n",
    "\n",
    "# There are IDs in date format\n",
    "\n",
    "def is_integer(field):\n",
    "    try:\n",
    "        int(field)\n",
    "        return True\n",
    "    except Exception:\n",
    "        return False\n",
    "\n",
    "movies_metadata = movies_metadata[movies_metadata['id'].apply(is_integer)]\n",
    "\n",
    "movies_metadata = movies_metadata.astype({'id': 'int64'})\n",
    "movies_metadata = movies_metadata.merge(credits, on='id')\n",
    "movies_metadata = movies_metadata.merge(keywords, on='id')\n",
    "\n",
    "ratings = pd.read_csv('./data/ratings_small.csv')\n",
    "links = pd.read_csv('./data/links.csv')\n",
    "\n",
    "movies_metadata.head()"
   ]
  },
  {
   "cell_type": "code",
   "execution_count": 3,
   "metadata": {},
   "outputs": [
    {
     "name": "stdout",
     "output_type": "stream",
     "text": [
      "   userId  movieId  rating   timestamp\n",
      "0       1       31     2.5  1260759144\n",
      "1       1     1029     3.0  1260759179\n",
      "2       1     1061     3.0  1260759182\n",
      "3       1     1129     2.0  1260759185\n",
      "4       1     1172     4.0  1260759205\n",
      "100004\n"
     ]
    }
   ],
   "source": [
    "print(ratings.head())\n",
    "print(len(ratings))"
   ]
  },
  {
   "cell_type": "code",
   "execution_count": 4,
   "metadata": {},
   "outputs": [
    {
     "name": "stdout",
     "output_type": "stream",
     "text": [
      "671\n"
     ]
    }
   ],
   "source": [
    "print(len(ratings[['userId']].drop_duplicates()))"
   ]
  },
  {
   "cell_type": "markdown",
   "metadata": {},
   "source": [
    "Problem: new users or new ratings by existing users are expected to come in quickly. It's not really feasible to retrain the entire model each time a new ratings comes in. Unfortunately, common implementations of SVD of even KNN-based collaborative filtering algorithms do not support online-learning for new ratings without retraining the whole model.\n",
    "\n",
    "For this, I'll try to implement the online-updating algorithm presented in: https://citeseerx.ist.psu.edu/viewdoc/download?doi=10.1.1.165.8010&rep=rep1&type=pdf\n",
    "\n",
    "The implementation will follow default parameters from the surprise package: https://surprise.readthedocs.io/en/stable/matrix_factorization.html#surprise.prediction_algorithms.matrix_factorization.SVD\n",
    "\n",
    "I use a sigmoid activation function so values are bounded between 0 and 5 (the minimum and maximum ratings in the dataset). The item bias is used for training but, different from the Surprise implementation, it's not used for inference. That's because movies with a very high average rating (e.g. The Godfather) have large positive biases, therefore they are almost always the top predicted ones. We want to model this bias to better learn the similarity between user and movie embeddings, but in inference mode it seems desirable not to use this bias."
   ]
  },
  {
   "cell_type": "code",
   "execution_count": 5,
   "metadata": {},
   "outputs": [
    {
     "name": "stderr",
     "output_type": "stream",
     "text": [
      "/home/matheus/miniconda3/lib/python3.9/site-packages/torch/cuda/__init__.py:83: UserWarning: CUDA initialization: CUDA unknown error - this may be due to an incorrectly set up environment, e.g. changing env variable CUDA_VISIBLE_DEVICES after program start. Setting the available devices to be zero. (Triggered internally at  ../c10/cuda/CUDAFunctions.cpp:109.)\n",
      "  return torch._C._cuda_getDeviceCount() > 0\n"
     ]
    }
   ],
   "source": [
    "import torch\n",
    "from torch import nn\n",
    "\n",
    "class KMF(nn.Module):\n",
    "    def __init__(self, n_users: int, n_items: int, emb_dim: int, max_score: int):\n",
    "        super().__init__()\n",
    "        self.user_emb = nn.Embedding(n_users, emb_dim)\n",
    "        self.user_bias = nn.Parameter(torch.zeros(n_users))\n",
    "        self.item_emb = nn.Embedding(n_items, emb_dim)\n",
    "        self.item_bias = nn.Parameter(torch.zeros(n_items))\n",
    "        nn.init.normal_(self.user_emb.weight, 0, 0.1)\n",
    "        nn.init.normal_(self.item_emb.weight, 0, 0.1)\n",
    "        self.global_bias = nn.Parameter(torch.zeros(1))\n",
    "        self.max_score = max_score\n",
    "\n",
    "    def forward(self, users, items):\n",
    "        users_emb = self.user_emb(users)\n",
    "        items_emb = self.item_emb(items)\n",
    "        users_bias = self.user_bias[users]\n",
    "        items_bias = self.item_bias[items]\n",
    "        pred_score = self.max_score * torch.sigmoid(self.global_bias + items_bias + users_bias + (items_emb * users_emb).sum(1))\n",
    "        return pred_score, users_emb, items_emb, users_bias, items_bias\n",
    "\n",
    "    @torch.no_grad()\n",
    "    def inference(self, user, avg_rating: float, threshold: float, vote_counts: torch.Tensor, with_bias=False):\n",
    "        user_emb = self.user_emb(user)\n",
    "        items_emb = self.item_emb.weight\n",
    "        user_bias = self.user_bias[user]\n",
    "        items_bias = self.item_bias\n",
    "        if with_bias:\n",
    "            pred_score = self.max_score * torch.sigmoid(self.global_bias + items_bias +user_bias + (items_emb * user_emb).sum(1))\n",
    "        else:\n",
    "            pred_score = self.max_score * torch.sigmoid(self.global_bias + user_bias + (items_emb * user_emb).sum(1))\n",
    "        return (vote_counts / (vote_counts + threshold) * pred_score) + (threshold / (threshold + vote_counts) * avg_rating)\n"
   ]
  },
  {
   "cell_type": "code",
   "execution_count": 6,
   "metadata": {},
   "outputs": [
    {
     "name": "stdout",
     "output_type": "stream",
     "text": [
      "MSE = 1.088 | L2 reg = 0.05\n",
      "Test: MSE = 0.931\n",
      "MSE = 0.884 | L2 reg = 0.05\n",
      "Test: MSE = 0.887\n",
      "MSE = 0.822 | L2 reg = 0.07\n",
      "Test: MSE = 0.875\n",
      "MSE = 0.776 | L2 reg = 0.10\n",
      "Test: MSE = 0.870\n",
      "MSE = 0.742 | L2 reg = 0.12\n",
      "Test: MSE = 0.869\n",
      "MSE = 0.718 | L2 reg = 0.14\n",
      "Test: MSE = 0.868\n",
      "MSE = 0.697 | L2 reg = 0.15\n",
      "Test: MSE = 0.869\n",
      "MSE = 0.682 | L2 reg = 0.16\n",
      "Test: MSE = 0.868\n",
      "MSE = 0.671 | L2 reg = 0.17\n",
      "Test: MSE = 0.869\n",
      "MSE = 0.660 | L2 reg = 0.18\n",
      "Test: MSE = 0.870\n",
      "MSE = 0.652 | L2 reg = 0.19\n",
      "Test: MSE = 0.870\n",
      "MSE = 0.646 | L2 reg = 0.19\n",
      "Test: MSE = 0.870\n",
      "MSE = 0.640 | L2 reg = 0.19\n",
      "Test: MSE = 0.870\n",
      "MSE = 0.636 | L2 reg = 0.20\n",
      "Test: MSE = 0.871\n",
      "MSE = 0.632 | L2 reg = 0.20\n",
      "Test: MSE = 0.871\n",
      "MSE = 0.629 | L2 reg = 0.20\n",
      "Test: MSE = 0.872\n",
      "MSE = 0.626 | L2 reg = 0.20\n",
      "Test: MSE = 0.872\n",
      "MSE = 0.622 | L2 reg = 0.21\n",
      "Test: MSE = 0.872\n",
      "MSE = 0.619 | L2 reg = 0.21\n",
      "Test: MSE = 0.873\n",
      "MSE = 0.616 | L2 reg = 0.21\n",
      "Test: MSE = 0.872\n"
     ]
    }
   ],
   "source": [
    "import random\n",
    "from torch.utils.data import DataLoader\n",
    "\n",
    "\n",
    "def mse(scores, pred):\n",
    "    return (scores - pred).pow(2).mean().sqrt()\n",
    "\n",
    "\n",
    "def get_param_squared_norms(users_emb, items_emb, users_bias, items_bias):\n",
    "    emb_norms = users_emb.pow(2).sum(1).mean() + items_emb.pow(2).sum(1).mean()\n",
    "    bias_norms = users_bias.pow(2).mean() + items_bias.pow(2).mean()\n",
    "    return emb_norms + bias_norms\n",
    "\n",
    "\n",
    "def setup_weight_decay(model: nn.Module, weight_decay: float):\n",
    "    decay, no_decay = [], []\n",
    "    for name, param in model.named_parameters():\n",
    "        if len(param.shape) > 1:\n",
    "            decay.append(param)\n",
    "        else:\n",
    "            no_decay.append(param)\n",
    "    return [\n",
    "        {\"params\": decay, \"weight_decay\": weight_decay},\n",
    "        {\"params\": no_decay, \"weight_decay\": 0},\n",
    "    ]\n",
    "\n",
    "\n",
    "n_users = len(ratings['userId'].unique())\n",
    "n_items = len(ratings['movieId'].unique())\n",
    "\n",
    "device = torch.device('cuda') if torch.cuda.is_available() else torch.device('cpu')\n",
    "model = KMF(n_users, n_items, 40, 5)\n",
    "model.to(device)\n",
    "# not all movieIds and userId exist in the dataset\n",
    "movie_id_to_emb = {movie_id: i for i, movie_id in enumerate(ratings['movieId'].unique())}\n",
    "user_id_to_emb = {user_id: i for i, user_id in enumerate(ratings['userId'].unique())}\n",
    "ratings_values = ratings['rating'].values\n",
    "users = ratings['userId'].values\n",
    "movies = ratings['movieId'].values\n",
    "dataset = [\n",
    "    (torch.tensor([value, movie_id_to_emb[movie], user_id_to_emb[user]]).float().to(device))\n",
    "    for value, movie, user in zip(ratings_values, movies, users)\n",
    "]\n",
    "\n",
    "random.shuffle(dataset)\n",
    "\n",
    "split_point = int(0.8 * len(dataset))\n",
    "train_dataset = dataset[:split_point]\n",
    "test_dataset = dataset[split_point:]\n",
    "\n",
    "train_loader = DataLoader(train_dataset, batch_size=1024, shuffle=True)\n",
    "test_loader = DataLoader(test_dataset, batch_size=1024, shuffle=False)\n",
    "optimizer = torch.optim.Adam(setup_weight_decay(model, weight_decay=0), lr=1e-2)\n",
    "alpha = 0.1\n",
    "\n",
    "\n",
    "for epoch in range(20):\n",
    "    mse_acc = l2_acc = steps = 0\n",
    "    model.train()\n",
    "    for i, batch in enumerate(train_loader):\n",
    "        optimizer.zero_grad()\n",
    "        scores = batch[:, 0]\n",
    "        items = batch[:, 1].long()\n",
    "        users = batch[:, 2].long()\n",
    "        pred, users_emb, items_emb, users_bias, items_bias = model(users, items)\n",
    "        mse_loss = mse(scores, pred)\n",
    "        l2_loss = alpha * get_param_squared_norms(users_emb, items_emb, users_bias, items_bias)\n",
    "        mse_acc += float(mse_loss)\n",
    "        l2_acc += float(l2_loss)\n",
    "        loss = mse_loss + l2_loss\n",
    "        loss.backward()\n",
    "        steps += 1\n",
    "        optimizer.step()\n",
    "    mse_acc /= steps\n",
    "    l2_acc /= steps\n",
    "    print(f\"MSE = {mse_acc:.3f} | L2 reg = {l2_acc:.2f}\")\n",
    "\n",
    "    test_loss = test_steps = 0\n",
    "    model.eval()\n",
    "    with torch.no_grad():\n",
    "        for batch in test_loader:\n",
    "            scores = batch[:, 0]\n",
    "            items = batch[:, 1].long()\n",
    "            users = batch[:, 2].long()\n",
    "            pred, *_ = model(users, items)\n",
    "            mse_loss = mse(scores, pred)\n",
    "            test_loss += float(mse_loss)\n",
    "            test_steps += 1\n",
    "    print(f\"Test: MSE = {test_loss / test_steps:.3f}\")"
   ]
  },
  {
   "cell_type": "code",
   "execution_count": 7,
   "metadata": {},
   "outputs": [
    {
     "name": "stdout",
     "output_type": "stream",
     "text": [
      "tensor(0.9401)\n",
      "tensor(0.7996)\n"
     ]
    }
   ],
   "source": [
    "emb = model.user_emb.weight.data\n",
    "print(emb.norm(dim=1).mean())\n",
    "\n",
    "emb = model.item_emb.weight.data\n",
    "print(emb.norm(dim=1).mean())"
   ]
  },
  {
   "cell_type": "markdown",
   "metadata": {},
   "source": [
    "Next step: implement steps to add/update users and check if it's too slow"
   ]
  },
  {
   "cell_type": "code",
   "execution_count": 28,
   "metadata": {},
   "outputs": [
    {
     "name": "stdout",
     "output_type": "stream",
     "text": [
      "test_user = 46\n",
      "tensor(0.4385)\n"
     ]
    }
   ],
   "source": [
    "test_user = random.choice(ratings['userId'].unique())\n",
    "\n",
    "print(f'{test_user = }')\n",
    "new_ratings = ratings[ratings['userId'] == test_user]\n",
    "\n",
    "new_items = torch.tensor([movie_id_to_emb[x] for x in new_ratings['movieId'].to_list()]).to(device)\n",
    "new_ratings_values = torch.tensor(new_ratings['rating'].to_list())\n",
    "new_user = torch.tensor([user_id_to_emb[x] for x in new_ratings['userId'].to_list()]).to(device)\n",
    "\n",
    "with torch.no_grad():\n",
    "    pred, *_ = model(new_user, new_items)\n",
    "assert len(pred) == len(new_ratings_values)\n",
    "\n",
    "print(mse(new_ratings_values, pred.cpu()))"
   ]
  },
  {
   "cell_type": "code",
   "execution_count": 29,
   "metadata": {},
   "outputs": [
    {
     "name": "stdout",
     "output_type": "stream",
     "text": [
      "39\n",
      "loss = 1.72\n",
      "loss = 0.47\n",
      "loss = 0.27\n",
      "loss = 0.21\n",
      "final loss = 0.20\n",
      "cos sim between new user vector and fully-trained one: 0.92\n"
     ]
    }
   ],
   "source": [
    "def cos_sim(a, b):\n",
    "    a = a / (torch.norm(a, dim=-1, keepdim=True) + 1e-4)\n",
    "    b = b / (torch.norm(b, dim=-1, keepdim=True) + 1e-4)\n",
    "    return a @ b.T\n",
    "\n",
    "new_ratings = ratings[ratings['userId'] == test_user]\n",
    "\n",
    "new_user_emb = nn.Parameter(torch.zeros(1, 40))\n",
    "nn.init.normal_(new_user_emb, 0, 0.1)\n",
    "new_user_bias = nn.Parameter(torch.tensor(0.0))\n",
    "\n",
    "new_items = torch.tensor([movie_id_to_emb[x] for x in new_ratings['movieId'].to_list()]).to(device)\n",
    "new_ratings_values = torch.tensor(new_ratings['rating'].to_list())\n",
    "\n",
    "print(len(new_items))\n",
    "user_optim = torch.optim.SGD([new_user_emb, new_user_bias], lr=1e-2)\n",
    "global_bias = model.global_bias.data.cpu()\n",
    "for i in range(20):\n",
    "    user_optim.zero_grad()\n",
    "    items_emb = model.item_emb(new_items)\n",
    "    items_emb = items_emb.cpu().detach()\n",
    "    items_bias = model.item_bias[new_items]\n",
    "    items_bias = items_bias.cpu().detach()\n",
    "\n",
    "    pred = 5 * torch.sigmoid(model.global_bias.detach() + new_user_bias + items_bias + (items_emb * new_user_emb).sum(1))\n",
    "    mse_loss = mse(new_ratings_values, pred)\n",
    "    if i % 5 == 0:\n",
    "        print(f\"loss = {float(mse_loss):.2f}\")\n",
    "    l2_loss = alpha * new_user_emb.pow(2).sum() + new_user_bias.pow(2)\n",
    "    l2_loss = 0\n",
    "    loss = mse_loss * len(new_items) + l2_loss\n",
    "    loss.backward()\n",
    "    nn.utils.clip_grad_norm_([new_user_emb, new_user_bias], 100)\n",
    "    user_optim.step()\n",
    "print(f\"final loss = {float(mse_loss):.2f}\")\n",
    "\n",
    "\n",
    "user_emb = model.user_emb(torch.tensor(test_user - 1).to(device)).cpu().flatten()\n",
    "print(f\"cos sim between new user vector and fully-trained one: {cos_sim(new_user_emb[0, :], user_emb):.2f}\")"
   ]
  },
  {
   "cell_type": "markdown",
   "metadata": {},
   "source": [
    "Gladly, it's pretty fast and also the cosine similarity between the true user vector and the one trained with this approach is reasonably high. Therefore it seems a valid approach. The entire model is retrained only after a big number of changes accumulate. Meanwhile, weights are only updated using this approach."
   ]
  },
  {
   "cell_type": "markdown",
   "metadata": {},
   "source": [
    "Of course, we don't want to recommend all movies equally. We know that some movies have very few ratings, therefore the predictions are not really reliable. Thus, I use a common weighting strategy - the more ratings a movie has, the closer the prediction will be to the output of the model. Movies with very few ratings will use the global average rating instead."
   ]
  },
  {
   "cell_type": "code",
   "execution_count": 14,
   "metadata": {},
   "outputs": [
    {
     "name": "stdout",
     "output_type": "stream",
     "text": [
      "3.543608255669773\n",
      "9.0\n"
     ]
    }
   ],
   "source": [
    "avg_rating = ratings['rating'].mean()\n",
    "print(avg_rating)\n",
    "threshold = np.quantile(ratings['movieId'].value_counts().to_numpy(), 0.75)\n",
    "print(threshold)"
   ]
  },
  {
   "cell_type": "code",
   "execution_count": 15,
   "metadata": {},
   "outputs": [],
   "source": [
    "vote_counts = ratings['movieId'].value_counts()\n",
    "vote_counts_tensor = torch.zeros(len(movie_id_to_emb), dtype=torch.long)\n",
    "for idx, count in zip(vote_counts.index, vote_counts.values):\n",
    "    idx = movie_id_to_emb[idx]\n",
    "    vote_counts_tensor[idx] = count"
   ]
  },
  {
   "cell_type": "markdown",
   "metadata": {},
   "source": [
    "Let's get recommendations for one user"
   ]
  },
  {
   "cell_type": "code",
   "execution_count": 30,
   "metadata": {},
   "outputs": [
    {
     "name": "stdout",
     "output_type": "stream",
     "text": [
      "Top recommendations for user_id 46:\n",
      "4.17 -> Judge Dredd -- new\n",
      "4.16 -> Armageddon -- new\n",
      "4.14 -> Titanic -- new\n",
      "4.14 -> DragonHeart -- new\n",
      "4.12 -> Braveheart -- new\n",
      "4.10 -> The Game -- new\n",
      "4.10 -> Outbreak -- new\n",
      "4.10 -> Star Wars: Episode I - The Phantom Menace -- new\n",
      "4.10 -> American Pie -- new\n",
      "4.09 -> Stargate -- new\n",
      "4.09 -> Independence Day -- new\n",
      "4.09 -> Star Wars: Episode III - Revenge of the Sith -- new\n",
      "4.08 -> The Patriot -- new\n",
      "4.07 -> Batman Forever -- new\n",
      "4.07 -> The Santa Clause -- new\n"
     ]
    }
   ],
   "source": [
    "import math\n",
    "\n",
    "user_emb_to_id = {v: k for k, v in user_id_to_emb.items()}\n",
    "movie_emb_to_id = {v: k for k, v in movie_id_to_emb.items()}\n",
    "\n",
    "user_input = torch.tensor([user_id_to_emb[test_user]] * len(movie_id_to_emb))\n",
    "movies_input = torch.arange(len(movie_id_to_emb))\n",
    "preds = model.inference(torch.tensor(test_user), avg_rating, threshold, vote_counts_tensor, False)\n",
    "preds = preds.detach().numpy() \n",
    "topk = np.argsort(-preds)[:15]\n",
    "\n",
    "topk_ids = [movie_emb_to_id[x] for x in topk]\n",
    "\n",
    "\n",
    "def get_tmdb_ids(rating_ids, links):\n",
    "    tmdb_ids = []\n",
    "    for idx in rating_ids:\n",
    "        values = links[links['movieId'] == idx]['tmdbId'].values\n",
    "        if len(values) == 0:\n",
    "            tmdb_ids.append(None)\n",
    "        elif math.isnan(values[0]):\n",
    "            tmdb_ids.append(None)\n",
    "        else:\n",
    "            tmdb_ids.append(int(values[0]))\n",
    "    return tmdb_ids\n",
    "\n",
    "\n",
    "def get_movie_titles(tmbd_ids, movies_metadata):\n",
    "    titles = []\n",
    "    for idx in tmbd_ids:\n",
    "        values = movies_metadata.loc[movies_metadata['id'] == idx]['title'].values\n",
    "        if len(values) == 0:\n",
    "            titles.append(None)\n",
    "        else:\n",
    "            titles.append(values[0])\n",
    "    return titles\n",
    "\n",
    "\n",
    "def get_rated_movies(user_id, ratings, links, movies_metadata):\n",
    "    rated_movies_ids = ratings[ratings['userId'] == user_id]['movieId'].values\n",
    "    rated_movies_tmdb_ids = get_tmdb_ids(rated_movies_ids, links)\n",
    "    return set(rated_movies_tmdb_ids)\n",
    "    \n",
    "\n",
    "tmdb_ids = get_tmdb_ids(topk_ids, links)\n",
    "titles = get_movie_titles(tmdb_ids, movies_metadata)\n",
    "rated_movies = get_rated_movies(test_user, ratings, links, movies_metadata)\n",
    "watched = []\n",
    "for idx in tmdb_ids:\n",
    "    if idx in rated_movies:\n",
    "        watched.append(\"rated\")\n",
    "    else:\n",
    "        watched.append(\"new\")\n",
    "print(f\"Top recommendations for user_id {test_user}:\")\n",
    "print(\"\\n\".join([f\"{preds[x]:.2f} -> {title} -- {watched_}\" for title, x, watched_ in zip(titles, topk, watched)]))"
   ]
  },
  {
   "cell_type": "markdown",
   "metadata": {},
   "source": [
    "And below are the top rated movies by this user:"
   ]
  },
  {
   "cell_type": "code",
   "execution_count": 31,
   "metadata": {},
   "outputs": [
    {
     "name": "stdout",
     "output_type": "stream",
     "text": [
      "5.0 -> Les Miserables\n",
      "5.0 -> Ratatouille\n",
      "5.0 -> Kindergarten Cop\n",
      "5.0 -> The Lord of the Rings: The Return of the King\n",
      "5.0 -> Police Academy: Mission to Moscow\n",
      "5.0 -> The Bourne Identity\n",
      "5.0 -> Madagascar\n",
      "5.0 -> Batman Begins\n",
      "5.0 -> Blood Diamond\n",
      "5.0 -> The Dark Knight\n",
      "5.0 -> The Lord of the Rings: The Fellowship of the Ring\n",
      "5.0 -> The Visitor\n",
      "5.0 -> Inception\n",
      "5.0 -> The Social Network\n",
      "5.0 -> Harry Potter and the Deathly Hallows: Part 1\n",
      "5.0 -> Harry Potter and the Deathly Hallows: Part 2\n",
      "5.0 -> The Avengers\n",
      "5.0 -> The Dark Knight Rises\n",
      "5.0 -> The Lord of the Rings: The Two Towers\n",
      "5.0 -> The Naked Gun: From the Files of Police Squad!\n"
     ]
    }
   ],
   "source": [
    "def get_top_user_ratings(user_id, ratings, links, movies_metadata, top_k=20):\n",
    "    user_ratings = ratings[ratings['userId'] == user_id]\n",
    "    user_ratings = user_ratings.sort_values('rating', ascending=False)\n",
    "    user_ratings = user_ratings[:top_k]\n",
    "    tmdb_ids = get_tmdb_ids(user_ratings['movieId'].values, links)\n",
    "    ratings = user_ratings['rating'].values\n",
    "    movie_titles = get_movie_titles(tmdb_ids, movies_metadata)\n",
    "    return [(title, rating) or \"NOT FOUND\" for title, rating in zip(movie_titles, ratings)]\n",
    "\n",
    "top_ratings = get_top_user_ratings(test_user, ratings, links, movies_metadata)\n",
    "print(\"\\n\".join(f\"{rating} -> {title}\" for title, rating in top_ratings))"
   ]
  },
  {
   "cell_type": "markdown",
   "metadata": {},
   "source": [
    "The code below is heavily inspired by the [excellent notebook](https://www.kaggle.com/code/ibtesama/getting-started-with-a-movie-recommendation-system/data) by Ibtesam Ahmed. The idea is to use movie metadata to find similar movies."
   ]
  },
  {
   "cell_type": "code",
   "execution_count": 32,
   "metadata": {},
   "outputs": [
    {
     "name": "stdout",
     "output_type": "stream",
     "text": [
      "20\n"
     ]
    }
   ],
   "source": [
    "import json\n",
    "from ast import literal_eval\n",
    "\n",
    "features = ['cast', 'crew', 'keywords', 'genres']\n",
    "\n",
    "for feature in features:\n",
    "    movies_metadata[feature] = movies_metadata[feature].apply(literal_eval)\n",
    "\n",
    "def get_genres(genres):\n",
    "    return [x['name'] for x in genres]\n",
    "\n",
    "print(len(set(x for sublist in movies_metadata['genres'].apply(get_genres) for x in sublist)))"
   ]
  },
  {
   "cell_type": "code",
   "execution_count": 33,
   "metadata": {},
   "outputs": [],
   "source": [
    "# Get the director's name from the crew feature. If director is not listed, return NaN\n",
    "def get_director(x):\n",
    "    for i in x:\n",
    "        if i['job'] == 'Director':\n",
    "            return i['name']\n",
    "    return np.nan\n",
    "\n",
    "\n",
    "# Returns the list top 3 elements or entire list; whichever is more.\n",
    "def get_list(x):\n",
    "    if isinstance(x, list):\n",
    "        names = [i['name'] for i in x]\n",
    "        #Check if more than 3 elements exist. If yes, return only first three. If no, return entire list.\n",
    "        if len(names) > 3:\n",
    "            names = names[:3]\n",
    "        return names\n",
    "\n",
    "    #Return empty list in case of missing/malformed data\n",
    "    return []"
   ]
  },
  {
   "cell_type": "code",
   "execution_count": 34,
   "metadata": {},
   "outputs": [],
   "source": [
    "# Define new director, cast, genres and keywords features that are in a suitable form.\n",
    "movies_metadata['director'] = movies_metadata['crew'].apply(get_director)\n",
    "\n",
    "features = ['cast', 'keywords', 'genres']\n",
    "for feature in features:\n",
    "    movies_metadata[feature] = movies_metadata[feature].apply(get_list)"
   ]
  },
  {
   "cell_type": "code",
   "execution_count": 35,
   "metadata": {},
   "outputs": [
    {
     "data": {
      "text/html": [
       "<div>\n",
       "<style scoped>\n",
       "    .dataframe tbody tr th:only-of-type {\n",
       "        vertical-align: middle;\n",
       "    }\n",
       "\n",
       "    .dataframe tbody tr th {\n",
       "        vertical-align: top;\n",
       "    }\n",
       "\n",
       "    .dataframe thead th {\n",
       "        text-align: right;\n",
       "    }\n",
       "</style>\n",
       "<table border=\"1\" class=\"dataframe\">\n",
       "  <thead>\n",
       "    <tr style=\"text-align: right;\">\n",
       "      <th></th>\n",
       "      <th>title</th>\n",
       "      <th>cast</th>\n",
       "      <th>director</th>\n",
       "      <th>keywords</th>\n",
       "      <th>genres</th>\n",
       "    </tr>\n",
       "  </thead>\n",
       "  <tbody>\n",
       "    <tr>\n",
       "      <th>0</th>\n",
       "      <td>Toy Story</td>\n",
       "      <td>[Tom Hanks, Tim Allen, Don Rickles]</td>\n",
       "      <td>John Lasseter</td>\n",
       "      <td>[jealousy, toy, boy]</td>\n",
       "      <td>[Animation, Comedy, Family]</td>\n",
       "    </tr>\n",
       "    <tr>\n",
       "      <th>1</th>\n",
       "      <td>Jumanji</td>\n",
       "      <td>[Robin Williams, Jonathan Hyde, Kirsten Dunst]</td>\n",
       "      <td>Joe Johnston</td>\n",
       "      <td>[board game, disappearance, based on children'...</td>\n",
       "      <td>[Adventure, Fantasy, Family]</td>\n",
       "    </tr>\n",
       "    <tr>\n",
       "      <th>2</th>\n",
       "      <td>Grumpier Old Men</td>\n",
       "      <td>[Walter Matthau, Jack Lemmon, Ann-Margret]</td>\n",
       "      <td>Howard Deutch</td>\n",
       "      <td>[fishing, best friend, duringcreditsstinger]</td>\n",
       "      <td>[Romance, Comedy]</td>\n",
       "    </tr>\n",
       "  </tbody>\n",
       "</table>\n",
       "</div>"
      ],
      "text/plain": [
       "              title                                            cast  \\\n",
       "0         Toy Story             [Tom Hanks, Tim Allen, Don Rickles]   \n",
       "1           Jumanji  [Robin Williams, Jonathan Hyde, Kirsten Dunst]   \n",
       "2  Grumpier Old Men      [Walter Matthau, Jack Lemmon, Ann-Margret]   \n",
       "\n",
       "        director                                           keywords  \\\n",
       "0  John Lasseter                               [jealousy, toy, boy]   \n",
       "1   Joe Johnston  [board game, disappearance, based on children'...   \n",
       "2  Howard Deutch       [fishing, best friend, duringcreditsstinger]   \n",
       "\n",
       "                         genres  \n",
       "0   [Animation, Comedy, Family]  \n",
       "1  [Adventure, Fantasy, Family]  \n",
       "2             [Romance, Comedy]  "
      ]
     },
     "execution_count": 35,
     "metadata": {},
     "output_type": "execute_result"
    }
   ],
   "source": [
    "movies_metadata[['title', 'cast', 'director', 'keywords', 'genres']].head(3)"
   ]
  },
  {
   "cell_type": "code",
   "execution_count": 36,
   "metadata": {},
   "outputs": [],
   "source": [
    "def clean_data(x):\n",
    "    if isinstance(x, list):\n",
    "        return [str.lower(i.replace(\" \", \"\")) for i in x]\n",
    "    else:\n",
    "        #Check if director exists. If not, return empty string\n",
    "        if isinstance(x, str):\n",
    "            return str.lower(x.replace(\" \", \"\"))\n",
    "        else:\n",
    "            return ''\n",
    "\n",
    "# Apply clean_data function to your features.\n",
    "features = ['cast', 'keywords', 'director', 'genres']\n",
    "\n",
    "for feature in features:\n",
    "    movies_metadata[feature] = movies_metadata[feature].apply(clean_data)"
   ]
  },
  {
   "cell_type": "code",
   "execution_count": 37,
   "metadata": {},
   "outputs": [],
   "source": [
    "def create_soup(x):\n",
    "    return ' '.join(x['keywords']) + ' ' + ' '.join(x['cast']) + ' ' + x['director'] + ' ' + ' '.join(x['genres'])\n",
    "movies_metadata['soup'] = movies_metadata.apply(create_soup, axis=1)"
   ]
  },
  {
   "cell_type": "code",
   "execution_count": 38,
   "metadata": {},
   "outputs": [
    {
     "name": "stdout",
     "output_type": "stream",
     "text": [
      "(46628, 73881)\n"
     ]
    }
   ],
   "source": [
    "from sklearn.feature_extraction.text import CountVectorizer\n",
    "\n",
    "count = CountVectorizer(stop_words='english')\n",
    "count_matrix = count.fit_transform(movies_metadata['soup'])\n",
    "\n",
    "print(count_matrix.shape)"
   ]
  },
  {
   "cell_type": "markdown",
   "metadata": {},
   "source": [
    "Let's time how long it takes to find the cosine similarity between two movies"
   ]
  },
  {
   "cell_type": "code",
   "execution_count": 39,
   "metadata": {},
   "outputs": [
    {
     "name": "stdout",
     "output_type": "stream",
     "text": [
      "5.26 ms ± 45.4 µs per loop (mean ± std. dev. of 7 runs, 100 loops each)\n"
     ]
    }
   ],
   "source": [
    "from sklearn.metrics.pairwise import cosine_similarity\n",
    "import timeit\n",
    "\n",
    "def f():\n",
    "    sim = cosine_similarity(count_matrix[0, :], count_matrix)\n",
    "    return np.argsort(-sim)\n",
    "\n",
    "%timeit f()"
   ]
  },
  {
   "cell_type": "markdown",
   "metadata": {},
   "source": [
    "Not bad. Let's take a look at similar movies according to this vectorization"
   ]
  },
  {
   "cell_type": "code",
   "execution_count": 67,
   "metadata": {},
   "outputs": [
    {
     "name": "stdout",
     "output_type": "stream",
     "text": [
      "Star Trek II: The Wrath of Khan\n",
      "Star Trek III: The Search for Spock\n",
      "Star Trek V: The Final Frontier\n",
      "Star Trek VI: The Undiscovered Country\n",
      "Star Trek IV: The Voyage Home\n",
      "Star Trek: The Motion Picture\n",
      "Behind Enemy Lines\n",
      "The Empire Strikes Back\n",
      "Star Trek\n",
      "Bells of Innocence\n"
     ]
    }
   ],
   "source": [
    "chosen_movie = 1346\n",
    "sim = cosine_similarity(count_matrix[chosen_movie, :], count_matrix)\n",
    "top_k = np.argsort(-sim.flatten())[0:10]\n",
    "for k in top_k:\n",
    "    print(movies_metadata['title'][k])"
   ]
  },
  {
   "cell_type": "code",
   "execution_count": 68,
   "metadata": {},
   "outputs": [
    {
     "data": {
      "text/plain": [
       "2770352"
      ]
     },
     "execution_count": 68,
     "metadata": {},
     "output_type": "execute_result"
    }
   ],
   "source": [
    "count_matrix.data.nbytes"
   ]
  },
  {
   "cell_type": "markdown",
   "metadata": {},
   "source": [
    "We can use bitwise encoding to encode genders efficiently for extremely fast overlap lookup. Then, movies with overlapping gender can be further processed."
   ]
  },
  {
   "cell_type": "code",
   "execution_count": 69,
   "metadata": {},
   "outputs": [
    {
     "name": "stdout",
     "output_type": "stream",
     "text": [
      "52.9 µs ± 3.93 µs per loop (mean ± std. dev. of 7 runs, 10,000 loops each)\n"
     ]
    }
   ],
   "source": [
    "genres = set(x for sublist in movies_metadata['genres'] for x in sublist)\n",
    "\n",
    "genre_to_int = {genre: 2**i for i, genre in enumerate(genres)}\n",
    "\n",
    "encoded_genres = movies_metadata['genres'].apply(lambda genres: sum(genre_to_int[x] for x in genres)).to_numpy()\n",
    "\n",
    "def rank_genres(a, b):\n",
    "    overlap = np.sum(np.bitwise_and(a, b) != 0)\n",
    "    return np.argsort(-overlap)\n",
    "\n",
    "%timeit rank_genres(encoded_genres[10], encoded_genres)"
   ]
  },
  {
   "cell_type": "markdown",
   "metadata": {},
   "source": [
    "And this structure fits smoothly into memory!"
   ]
  },
  {
   "cell_type": "code",
   "execution_count": 70,
   "metadata": {},
   "outputs": [
    {
     "data": {
      "text/plain": [
       "373024"
      ]
     },
     "execution_count": 70,
     "metadata": {},
     "output_type": "execute_result"
    }
   ],
   "source": [
    "encoded_genres.data.nbytes"
   ]
  },
  {
   "cell_type": "markdown",
   "metadata": {},
   "source": [
    "Useful resources:\n",
    "\n",
    "- https://www.kaggle.com/code/ibtesama/getting-started-with-a-movie-recommendation-system\n",
    "- https://www.kaggle.com/datasets/rounakbanik/the-movies-dataset\n",
    "- https://citeseerx.ist.psu.edu/viewdoc/download?doi=10.1.1.165.8010&rep=rep1&type=pdf\n",
    "- https://surprise.readthedocs.io/en/stable/matrix_factorization.html#surprise.prediction_algorithms.matrix_factorization.SVD"
   ]
  }
 ],
 "metadata": {
  "kernelspec": {
   "display_name": "Python 3.9.13 ('base')",
   "language": "python",
   "name": "python3"
  },
  "language_info": {
   "codemirror_mode": {
    "name": "ipython",
    "version": 3
   },
   "file_extension": ".py",
   "mimetype": "text/x-python",
   "name": "python",
   "nbconvert_exporter": "python",
   "pygments_lexer": "ipython3",
   "version": "3.9.13"
  },
  "orig_nbformat": 4,
  "vscode": {
   "interpreter": {
    "hash": "9db47ae5badfead9fd39188fd18ff2ce368bc487d9efee61e4db9417ef6acdbc"
   }
  }
 },
 "nbformat": 4,
 "nbformat_minor": 2
}
